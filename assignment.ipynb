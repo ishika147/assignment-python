{
  "nbformat": 4,
  "nbformat_minor": 0,
  "metadata": {
    "colab": {
      "provenance": []
    },
    "kernelspec": {
      "name": "python3",
      "display_name": "Python 3"
    },
    "language_info": {
      "name": "python"
    }
  },
  "cells": [
    {
      "cell_type": "code",
      "execution_count": null,
      "metadata": {
        "id": "NU9UCnXYRQOV"
      },
      "outputs": [],
      "source": []
    },
    {
      "cell_type": "markdown",
      "source": [],
      "metadata": {
        "id": "djttzSs4i6WS"
      }
    },
    {
      "cell_type": "markdown",
      "source": [
        "**ASSIGNMENT(Python basic questions)**\n",
        "\n",
        "Q1. What is python and why it is popular ?\n",
        "-   python is a general purpose and powerful programming language .It is popular as it is used to develop almost any kind of application including desktop application, CAD , image processing and many more.\n",
        "\n",
        "\n",
        "Q2. what is interpreter in python ?\n",
        " -   It is a program that executes python code line by line.\n",
        "\n",
        "\n",
        "\n",
        " Q3.What are predefined keywords in python ?\n",
        " -   Pre-defined keywords in python are reserved words with special meanings and functionalities within the language.\n",
        "\n",
        " Q4.Can keywords be used as variable names ?\n",
        "  -  No keywords cannot be used as variable names as keywords are reserved words.\n",
        "\n",
        "  Q5. What is mutability in python?\n",
        "  -    In python, it refers to whether an object content or state can be changed after it has been created.\n",
        "\n",
        "  Q6. Why are list mutable but tuples are immutable ?\n",
        "   - Tuples use parentheses instead of square brackets and items in tuples cannot be modified but the items in lists can be modified.\n",
        "\n"
      ],
      "metadata": {
        "id": "HpDHq-3NRVXc"
      }
    },
    {
      "cell_type": "markdown",
      "source": [
        "Q7. What is the difference between'==' and is operator in python ?\n",
        "-   '==' is a relational operator where as 'is' operator is memory operator in python.\n",
        "\n",
        "Q8. What are logical operators in python ?\n",
        "-   Logical operators are used to combine multiple conditions together and evaluate them as a single expression . There are 3 types of logical operators 'and' ,'or', 'not'.\n",
        "\n",
        "Q9. What is type casting in python ?\n",
        "-    It is the process of converting a value from one data type to another using built-in functions . Eg:  int(),  str() etc.\n",
        "\n",
        "Q10. what is the difference between implicit and explicit type casting ?\n",
        "-  Implicit casting happens automatically and is handled by python whereas explicit casting is performed manually by the user using built in functions.\n",
        "\n",
        "Q11. what is the function of conditional statements in python ?\n",
        "-  these statements in python serve the function of controlling the flow of program based on whether specific conditions are met.\n",
        "\n",
        "Q12. how does elif statement work ?\n",
        "-   it is used in conditional statements to check for multiple conditions.\n",
        "\n",
        "Q13. difference between for loops and while loops ?\n",
        "-  the main difference between for loop and while loop lies on how they handle iteration. A for loop is used when you know the iterations before hand whereas while loop continues iterating as long as specified conditions remains true.\n",
        "\n",
        "\n",
        "Q14.  describe a scenario where a while loop is more suitable than a for loop.\n",
        "-  while loop is more suitable when the number of iterations are uncertain .\n",
        "\n",
        "\n"
      ],
      "metadata": {
        "id": "6JV6gE5XYT52"
      }
    },
    {
      "cell_type": "code",
      "source": [
        "###  PRACTICAL QUESTIONS  ###\n",
        "1.\n",
        "print(\"Hello, World!\")"
      ],
      "metadata": {
        "id": "N7y5y_TsTLgy",
        "colab": {
          "base_uri": "https://localhost:8080/"
        },
        "outputId": "471ad5f0-af24-428b-f181-f16ba5969c14"
      },
      "execution_count": null,
      "outputs": [
        {
          "output_type": "stream",
          "name": "stdout",
          "text": [
            "Hello, World!\n"
          ]
        }
      ]
    },
    {
      "cell_type": "code",
      "source": [
        "2.\n",
        "name='ishika'\n",
        "age = 24\n",
        "print ((name) ,(age))"
      ],
      "metadata": {
        "colab": {
          "base_uri": "https://localhost:8080/"
        },
        "id": "liOupL3MoSOy",
        "outputId": "00b3840f-559e-4843-f391-10683de42e52"
      },
      "execution_count": null,
      "outputs": [
        {
          "output_type": "stream",
          "name": "stdout",
          "text": [
            "ishika 24\n"
          ]
        }
      ]
    },
    {
      "cell_type": "code",
      "source": [
        "3.\n",
        "import keyword\n",
        "print(keyword.kwlist)"
      ],
      "metadata": {
        "colab": {
          "base_uri": "https://localhost:8080/"
        },
        "id": "suzO7PWNpiDk",
        "outputId": "526ca59a-1e70-4adb-fbd3-d9210812916f"
      },
      "execution_count": null,
      "outputs": [
        {
          "output_type": "stream",
          "name": "stdout",
          "text": [
            "['False', 'None', 'True', 'and', 'as', 'assert', 'async', 'await', 'break', 'class', 'continue', 'def', 'del', 'elif', 'else', 'except', 'finally', 'for', 'from', 'global', 'if', 'import', 'in', 'is', 'lambda', 'nonlocal', 'not', 'or', 'pass', 'raise', 'return', 'try', 'while', 'with', 'yield']\n"
          ]
        }
      ]
    },
    {
      "cell_type": "code",
      "source": [
        "4.\n",
        "import keyword\n",
        "word= 'SORRY'\n",
        "\n",
        "if keyword.iskeyword(word):\n",
        "  print(word, \"is a keyword\")\n",
        "else :\n",
        "  print(word,\"is not a keyword\")"
      ],
      "metadata": {
        "colab": {
          "base_uri": "https://localhost:8080/"
        },
        "id": "g1v5f84Lg-tG",
        "outputId": "b82f01c4-7cfc-4f6b-f80d-4098d372aa3b"
      },
      "execution_count": null,
      "outputs": [
        {
          "output_type": "stream",
          "name": "stdout",
          "text": [
            "SORRY is not a keyword\n"
          ]
        }
      ]
    },
    {
      "cell_type": "code",
      "source": [
        "5.\n",
        "range(2,10,2)\n",
        "print(list(range(2,10,2)))\n",
        "range(1,8,3)\n",
        "print(tuple(range(1,8,3)))"
      ],
      "metadata": {
        "colab": {
          "base_uri": "https://localhost:8080/"
        },
        "id": "61by-qP9i-T4",
        "outputId": "1e83e6a1-5279-49c8-896a-2e05678b9761"
      },
      "execution_count": null,
      "outputs": [
        {
          "output_type": "stream",
          "name": "stdout",
          "text": [
            "[2, 4, 6, 8]\n",
            "(1, 4, 7)\n"
          ]
        }
      ]
    },
    {
      "cell_type": "code",
      "source": [],
      "metadata": {
        "id": "kJVh4F19qRhr"
      },
      "execution_count": null,
      "outputs": []
    },
    {
      "cell_type": "code",
      "source": [
        "\n"
      ],
      "metadata": {
        "id": "KV78Wq9Jkbey"
      },
      "execution_count": null,
      "outputs": []
    },
    {
      "cell_type": "code",
      "metadata": {
        "colab": {
          "base_uri": "https://localhost:8080/"
        },
        "id": "e7b0e61a",
        "outputId": "2a4652f1-ea7a-40c2-8066-fc882a3f6f1e"
      },
      "source": [
        "6.  #Function to demonstrate mutable argument\n",
        "def modify_list(my_list):\n",
        "  my_list.append(4)\n",
        "  print(\"Inside function (mutable):\", my_list)\n",
        "\n",
        "# Function to demonstrate immutable argument\n",
        "def modify_string(my_string):\n",
        "  my_string = my_string + \" world\"\n",
        "  print(\"Inside function (immutable):\", my_string)\n",
        "\n",
        "# Demonstrating mutable argument\n",
        "mutable_list = [1, 2, 3]\n",
        "print(\"Before function call (mutable):\", mutable_list)\n",
        "modify_list(mutable_list)\n",
        "print(\"After function call (mutable):\", mutable_list)\n",
        "\n",
        "print(\"-\" * 20) # Separator\n",
        "\n",
        "# Demonstrating immutable argument\n",
        "immutable_string = \"hello\"\n",
        "print(\"Before function call (immutable):\", immutable_string)\n",
        "modify_string(immutable_string)\n",
        "print(\"After function call (immutable):\", immutable_string)"
      ],
      "execution_count": null,
      "outputs": [
        {
          "output_type": "stream",
          "name": "stdout",
          "text": [
            "Before function call (mutable): [1, 2, 3]\n",
            "Inside function (mutable): [1, 2, 3, 4]\n",
            "After function call (mutable): [1, 2, 3, 4]\n",
            "--------------------\n",
            "Before function call (immutable): hello\n",
            "Inside function (immutable): hello world\n",
            "After function call (immutable): hello\n"
          ]
        }
      ]
    },
    {
      "cell_type": "code",
      "source": [
        "7.\n",
        "num1= float(input('enter the firts Number'))\n",
        "num2= float(input('enter the second number'))\n",
        "# arthemetic operations#\n",
        "sum = num1 + num2\n",
        "difference= num1 - num2\n",
        "multiplication = num1*num2\n",
        "print(\"sum=\", (sum))\n",
        "print('difference=',(difference))\n",
        "print('multiplication=',(multiplication))"
      ],
      "metadata": {
        "colab": {
          "base_uri": "https://localhost:8080/"
        },
        "id": "GZ-YnwdumTOc",
        "outputId": "81e7437d-e45e-4adf-9efe-432e7867b84d"
      },
      "execution_count": null,
      "outputs": [
        {
          "output_type": "stream",
          "name": "stdout",
          "text": [
            "enter the firts Number20\n",
            "enter the second number14\n",
            "sum= 34.0\n",
            "difference= 6.0\n",
            "multiplication= 280.0\n"
          ]
        }
      ]
    },
    {
      "cell_type": "code",
      "source": [],
      "metadata": {
        "id": "vHYZFcBmoXck"
      },
      "execution_count": null,
      "outputs": []
    },
    {
      "cell_type": "code",
      "metadata": {
        "colab": {
          "base_uri": "https://localhost:8080/"
        },
        "id": "2047b267",
        "outputId": "ad2fbdc8-b94a-418d-c7fa-f6fe1a0cef42"
      },
      "source": [
        "8.\n",
        "\n",
        "# Demonstrating 'and' operator\n",
        "x = 10\n",
        "y = 20\n",
        "z = 5\n",
        "\n",
        "print(\"Demonstrating 'and' operator:\")\n",
        "print(f\"({x} > {z}) and ({y} > {x}) is:\", (x > z) and (y > x))\n",
        "print(f\"({x} > {y}) and ({y} > {z}) is:\", (x > y) and (y > z))\n",
        "\n",
        "\n",
        "# Demonstrating 'or' operator\n",
        "print(\"Demonstrating 'or' operator:\")\n",
        "print(f\"({x} > {y}) or ({y} > {z}) is:\", (x > y) or (y > z))\n",
        "print(f\"({x} < {z}) or ({y} < {x}) is:\", (x < z) or (y < x))\n",
        "\n"
      ],
      "execution_count": null,
      "outputs": [
        {
          "output_type": "stream",
          "name": "stdout",
          "text": [
            "Demonstrating 'and' operator:\n",
            "(10 > 5) and (20 > 10) is: True\n",
            "(10 > 20) and (20 > 5) is: False\n",
            "Demonstrating 'or' operator:\n",
            "(10 > 20) or (20 > 5) is: True\n",
            "(10 < 5) or (20 < 10) is: False\n"
          ]
        }
      ]
    },
    {
      "cell_type": "code",
      "source": [
        "9.\n",
        "\n",
        "str_input_value= (input('enter the value'))\n",
        "\n",
        "#conversion into integer\n",
        "int_value= int(str_input_value)\n",
        "print (int_value)\n",
        "\n",
        "#conversion into float\n",
        "float_value= float(str_input_value)\n",
        "print(float_value)\n",
        "\n",
        "#conversion into boolean\n",
        "bool_value= bool(str_input_value)\n",
        "print(bool_value)"
      ],
      "metadata": {
        "colab": {
          "base_uri": "https://localhost:8080/"
        },
        "id": "1plymBc8rkHx",
        "outputId": "7808ff49-fc5a-49d0-a6e7-4fe1023036e7"
      },
      "execution_count": null,
      "outputs": [
        {
          "output_type": "stream",
          "name": "stdout",
          "text": [
            "enter the value34\n",
            "34\n",
            "34.0\n",
            "True\n"
          ]
        }
      ]
    },
    {
      "cell_type": "code",
      "source": [
        "12.\n",
        "for x  in range (1, 11) :\n",
        "  print(x)\n"
      ],
      "metadata": {
        "id": "-mu4tRKcsWNc",
        "colab": {
          "base_uri": "https://localhost:8080/"
        },
        "outputId": "bff51ce8-f703-455f-c7b4-e4037a65b48d"
      },
      "execution_count": 33,
      "outputs": [
        {
          "output_type": "stream",
          "name": "stdout",
          "text": [
            "1\n",
            "2\n",
            "3\n",
            "4\n",
            "5\n",
            "6\n",
            "7\n",
            "8\n",
            "9\n",
            "10\n"
          ]
        }
      ]
    },
    {
      "cell_type": "code",
      "metadata": {
        "colab": {
          "base_uri": "https://localhost:8080/"
        },
        "id": "5c66bd00",
        "outputId": "542ce623-67f8-4e85-c51a-8c2767551486"
      },
      "source": [
        "13.\n",
        "sum_even = 0\n",
        "for number in range(1, 51):\n",
        "  if number % 2 == 0:\n",
        "    sum_even += number\n",
        "\n",
        "print(\"The sum of even numbers between 1 and 50 is:\", sum_even)"
      ],
      "execution_count": 37,
      "outputs": [
        {
          "output_type": "stream",
          "name": "stdout",
          "text": [
            "The sum of even numbers between 1 and 50 is: 650\n"
          ]
        }
      ]
    },
    {
      "cell_type": "code",
      "source": [],
      "metadata": {
        "id": "9zjZZFUU_gyu"
      },
      "execution_count": null,
      "outputs": []
    },
    {
      "cell_type": "code",
      "metadata": {
        "colab": {
          "base_uri": "https://localhost:8080/"
        },
        "id": "04fc44fa",
        "outputId": "9e530a31-d2c7-4c6c-a2a4-3e27dd736398"
      },
      "source": [
        "10.\n",
        " #Create a list with elements of different data types\n",
        "my_list_2 = [\"apple\", \"10\", \"3.14\", True, \"false\", \"100\"]\n",
        "\n",
        "print(\"Original list:\", my_list_2)\n",
        "print(\"Data types of original elements:\", [type(item) for item in my_list_2])\n",
        "\n",
        "# Attempt to cast elements to integers, handling potential errors\n",
        "int_list_2 = []\n",
        "for item in my_list_2:\n",
        "  try:\n",
        "    int_list_2.append(int(item))\n",
        "  except ValueError:\n",
        "    int_list_2.append(f\"Cannot cast '{item}' to int\") # Append a message for elements that cannot be cast\n",
        "\n",
        "print(\"\\nList after attempting to cast to integers:\", int_list_2)\n",
        "print(\"Data types after attempting to cast to integers:\", [type(item) for item in int_list_2])\n",
        "\n",
        "# Attempt to cast elements to floats, handling potential errors\n",
        "float_list_2 = []\n",
        "for item in my_list_2:\n",
        "  try:\n",
        "    float_list_2.append(float(item))\n",
        "  except ValueError:\n",
        "    float_list_2.append(f\"Cannot cast '{item}' to float\") # Append a message for elements that cannot be cast\n",
        "\n",
        "print(\"\\nList after attempting to cast to floats:\", float_list_2)\n",
        "print(\"Data types after attempting to cast to floats:\", [type(item) for item in float_list_2])\n",
        "\n",
        "# Cast elements to booleans\n",
        "# Note: Casting to boolean has specific rules (e.g., empty string is False, non-empty string is True)\n",
        "bool_list_2 = [bool(item) for item in my_list_2]\n",
        "print(\"\\nList after casting to booleans:\", bool_list_2)\n",
        "print(\"Data types after casting to booleans:\", [type(item) for item in bool_list_2])"
      ],
      "execution_count": 38,
      "outputs": [
        {
          "output_type": "stream",
          "name": "stdout",
          "text": [
            "Original list: ['apple', '10', '3.14', True, 'false', '100']\n",
            "Data types of original elements: [<class 'str'>, <class 'str'>, <class 'str'>, <class 'bool'>, <class 'str'>, <class 'str'>]\n",
            "\n",
            "List after attempting to cast to integers: [\"Cannot cast 'apple' to int\", 10, \"Cannot cast '3.14' to int\", 1, \"Cannot cast 'false' to int\", 100]\n",
            "Data types after attempting to cast to integers: [<class 'str'>, <class 'int'>, <class 'str'>, <class 'int'>, <class 'str'>, <class 'int'>]\n",
            "\n",
            "List after attempting to cast to floats: [\"Cannot cast 'apple' to float\", 10.0, 3.14, 1.0, \"Cannot cast 'false' to float\", 100.0]\n",
            "Data types after attempting to cast to floats: [<class 'str'>, <class 'float'>, <class 'float'>, <class 'float'>, <class 'str'>, <class 'float'>]\n",
            "\n",
            "List after casting to booleans: [True, True, True, True, True, True]\n",
            "Data types after casting to booleans: [<class 'bool'>, <class 'bool'>, <class 'bool'>, <class 'bool'>, <class 'bool'>, <class 'bool'>]\n"
          ]
        }
      ]
    },
    {
      "cell_type": "code",
      "source": [],
      "metadata": {
        "id": "6DGc90cfAISK"
      },
      "execution_count": null,
      "outputs": []
    },
    {
      "cell_type": "code",
      "metadata": {
        "colab": {
          "base_uri": "https://localhost:8080/"
        },
        "id": "49ef7733",
        "outputId": "8e086e74-068f-462e-8366-109f84dcc280"
      },
      "source": [
        "11.\n",
        " num = float(input(\"Enter a number: \"))\n",
        "\n",
        "if num > 0:\n",
        "  print(\"The number is positive\")\n",
        "elif num < 0:\n",
        "  print(\"The number is negative\")\n",
        "else:\n",
        "  print(\"The number is zero\")"
      ],
      "execution_count": 39,
      "outputs": [
        {
          "output_type": "stream",
          "name": "stdout",
          "text": [
            "Enter a number: 3.4\n",
            "The number is positive\n"
          ]
        }
      ]
    },
    {
      "cell_type": "code",
      "source": [
        "\n",
        "14."
      ],
      "metadata": {
        "id": "RcktgHmyCwyr"
      },
      "execution_count": null,
      "outputs": []
    },
    {
      "cell_type": "code",
      "metadata": {
        "colab": {
          "base_uri": "https://localhost:8080/"
        },
        "id": "c28b4e9a",
        "outputId": "d624c056-8949-4980-b564-760882ec7aec"
      },
      "source": [
        " input_string = input(\"Enter a string: \")\n",
        " reversed_string = \"\"\n",
        " index = 0\n",
        "\n",
        "while index < len(input_string):\n",
        "  reversed_string = input_string[index] + reversed_string\n",
        "  index += 1\n",
        "\n",
        "print(\"The reversed string is:\", reversed_string)"
      ],
      "execution_count": 52,
      "outputs": [
        {
          "output_type": "stream",
          "name": "stdout",
          "text": [
            "Enter a string: 4,6,8,9,7\n",
            "The reversed string is: 7,9,8,6,4\n"
          ]
        }
      ]
    },
    {
      "cell_type": "code",
      "source": [
        "15."
      ],
      "metadata": {
        "id": "cnKoJ5ybD-9b"
      },
      "execution_count": null,
      "outputs": []
    },
    {
      "cell_type": "code",
      "metadata": {
        "colab": {
          "base_uri": "https://localhost:8080/"
        },
        "id": "a4b5be14",
        "outputId": "0021dc84-62b5-4568-9313-08f00ecde5c5"
      },
      "source": [
        "num = int(input(\"Enter a non-negative integer: \"))\n",
        "\n",
        "if num < 0:\n",
        "  print(\"Factorial is not defined for negative numbers.\")\n",
        "elif num == 0:\n",
        "  print(\"The factorial of 0 is 1.\")\n",
        "else:\n",
        "  factorial = 1\n",
        "  i = 1\n",
        "  while i <= num:\n",
        "    factorial *= i\n",
        "    i += 1\n",
        "  print(f\"The factorial of {num} is {factorial}\")"
      ],
      "execution_count": 53,
      "outputs": [
        {
          "output_type": "stream",
          "name": "stdout",
          "text": [
            "Enter a non-negative integer: 6\n",
            "The factorial of 6 is 720\n"
          ]
        }
      ]
    }
  ]
}